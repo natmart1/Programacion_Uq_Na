{
 "cells": [
  {
   "cell_type": "code",
   "execution_count": null,
   "metadata": {},
   "outputs": [
    {
     "name": "stdout",
     "output_type": "stream",
     "text": [
      "0 2 8 34 "
     ]
    }
   ],
   "source": [
    "#punto 1\n",
    "def sucesion_fibo(n):\n",
    "    a, b = 0, 1\n",
    "    for _ in range(n):\n",
    "        yield a\n",
    "        a, b = b, a + b\n",
    "\n",
    "n = int(input(\"Número hasta el cual se desea calcular la sucesión: \"))\n",
    "\n",
    "fibonacci_series = sucesion_fibo(n)\n",
    "\n",
    "even_fibonacci = (x for x in fibonacci_series if x % 2 == 0)\n",
    "\n",
    "for num in even_fibonacci:\n",
    "    print(num, end=\" \")\n"
   ]
  },
  {
   "cell_type": "code",
   "execution_count": 9,
   "metadata": {},
   "outputs": [
    {
     "name": "stdout",
     "output_type": "stream",
     "text": [
      "\"Nombre\"\n",
      "\"Juan\"\n",
      "\"Pedro\"\n",
      "\"Maria\"\n",
      "\"Sofia\"\n",
      "\"Pablo\"\n",
      "\"Ana\"\n",
      "\"Carlos\"\n",
      "\"Simon\"\n",
      "Edades: [19, 20, 21, 20, 20, 22, 20, 20]\n",
      "Promedio de edades: 20.25\n",
      "Calificaciones: [4.5, 5.0, 4.5, 4.0, 4.0, 2.6, 2.9, 2.0]\n",
      "Promedio de calificaciones: 3.6875\n",
      "Calificaciones menores a 3.0: [0.0, 0.0, 0.0, 0.0, 0.0, 2.6, 2.9, 2.0]\n",
      "Nombres de los estudiantes que perdieron:\n",
      "\"Ana\"\n",
      "\"Carlos\"\n",
      "\"Simon\"\n",
      "las notas que estan en el 10% mejor: 5.0\n"
     ]
    }
   ],
   "source": [
    "#punto2\n",
    "with open(\"C:/Users/Isa/Documents/fisica/6to semestre/Programacion/taller 2/archivo.csv\", \"r\") as archivo:\n",
    "    # Lee todas las líneas del archivo y las almacena en una lista\n",
    "    lectura = archivo.readlines()\n",
    "nombres = []\n",
    "edades = []\n",
    "calificaciones = []\n",
    "\n",
    "# Itera a través de las filas en el archivo CSV\n",
    "for fila in lectura:\n",
    "    # Divide la fila en una lista de elementos usando la coma como separador\n",
    "    elementos = fila.strip().split(\",\")\n",
    "    if len(elementos) >= 1:\n",
    "        # Agrega el primer elemento (índice 0) a la lista de nombres\n",
    "        nombres.append(elementos[0])\n",
    "# Imprime la lista de nombres\n",
    "for nombre in nombres:\n",
    "    print(nombre)\n",
    "\n",
    "#para hacer una lista de edades, sumar edades y sacar promedio\n",
    "# Crear una lista para almacenar las edades\n",
    "edades = []\n",
    "\n",
    "# Iterar a través de las filas en la lista 'lectura'\n",
    "for fila in lectura:\n",
    "    elementos_2 = fila.strip().split(\",\")\n",
    "    if len(elementos_2) >= 2:  # Verificar que hay al menos 2 elementos en la fila\n",
    "        elemento = elementos_2[1].strip()  # Obtener el segundo elemento\n",
    "        if elemento.isdigit():  # Verificar si es un número\n",
    "            edades.append(int(elemento))  # Agregar la edad a la lista\n",
    "\n",
    "# Imprimir la lista de edades\n",
    "print(\"Edades:\", edades)\n",
    "\n",
    "# Calcular el promedio de las edades\n",
    "if edades:\n",
    "    promedio_edades = float(sum(edades) / (len(lectura)-1))\n",
    "    print(\"Promedio de edades:\", promedio_edades)\n",
    "else:\n",
    "    print(\"No se encontraron edades válidas en el archivo.\")\n",
    "\n",
    "#para hacer una lista de calificaciones, sumar edades y sacar promedio\n",
    "calificaciones = []\n",
    "\n",
    "for fila in lectura:\n",
    "    elementos_3 = fila.strip().split(\",\")\n",
    "    if len(elementos_3) >= 3:  # Verificar que hay al menos 3 elementos en la fila\n",
    "        elemento1 = elementos_3[2].strip()\n",
    "        if elemento1.replace('.', '', 1).isdigit():  # Verificar si es un número (incluso si incluye un punto decimal)\n",
    "            calificaciones.append(float(elemento1))\n",
    "\n",
    "print(\"Calificaciones:\", calificaciones)\n",
    "  \n",
    "if calificaciones:\n",
    "    promedio_calificaciones = float(sum(calificaciones) / len(calificaciones))\n",
    "    print(\"Promedio de calificaciones:\", promedio_calificaciones)\n",
    "else:\n",
    "    print(\"No se encontraron calificaciones válidas en el archivo.\")\n",
    "\n",
    "\n",
    "alumnos_que_perdieron = []\n",
    "\n",
    "for fila in lectura:\n",
    "    elementos_4 = fila.strip().split(\",\")\n",
    "    if len(elementos_4) >= 3:\n",
    "        elemento1 = elementos_4[2].strip()\n",
    "        if elemento1.replace('.', '', 1).isdigit():\n",
    "            calificacion = float(elemento1)\n",
    "            if calificacion <= 3.0:\n",
    "                alumnos_que_perdieron.append(calificacion)\n",
    "            else:\n",
    "                alumnos_que_perdieron.append(0.0)\n",
    "\n",
    "print(\"Calificaciones menores a 3.0:\", alumnos_que_perdieron)\n",
    "#para poder tener la ubicacion de las notas perdidas y asociarlas a la ubicacion de los nombres de losalumnos\n",
    "ubicacion_notas_perdidas = []\n",
    "\n",
    "for i, nota in enumerate(alumnos_que_perdieron):\n",
    "    if nota != 0.0:\n",
    "        ubicacion_notas_perdidas.append(i)\n",
    "#nobre de estudiantes que perdieron\n",
    "print(\"Nombres de los estudiantes que perdieron:\")\n",
    "for indice in ubicacion_notas_perdidas:\n",
    "    nombre_indice = indice + 1  # Restamos 1 ya que la primera ubicación es \"nombres\"\n",
    "    if 0 <= nombre_indice < len(nombres):\n",
    "        print(nombres[nombre_indice])\n",
    "\n",
    "\n",
    "#calificaciones ordenadas de mayor a menor\n",
    "calificaciones = []\n",
    "\n",
    "for fila in lectura:\n",
    "    elementos_3 = fila.strip().split(\",\")\n",
    "    if len(elementos_3) >= 3:  # Verificar que hay al menos 3 elementos en la fila\n",
    "        elemento1 = elementos_3[2].strip()\n",
    "        if elemento1.replace('.', '', 1).isdigit():  # Verificar si es un número (incluso si incluye un punto decimal)\n",
    "            calificaciones.append(float(elemento1))\n",
    "c_o = sorted(calificaciones, reverse=True)\n",
    "\n",
    "# 10%\n",
    "diez_por_ciento = int(len(calificaciones) * 0.1)\n",
    "\n",
    "aproximacion = diez_por_ciento + 1\n",
    "# Imprime el primer 10% de las mejores calificaciones\n",
    "for i in range(aproximacion):\n",
    "    print(\"las notas que estan en el 10% mejor:\", c_o[i])\n",
    "    "
   ]
  },
  {
   "cell_type": "code",
   "execution_count": 32,
   "metadata": {},
   "outputs": [
    {
     "name": "stdout",
     "output_type": "stream",
     "text": [
      "Cantidad de sobrevivientes: 342\n",
      "Cantidad de muertos: 549\n"
     ]
    }
   ],
   "source": [
    "#punto3\n",
    "import pandas as pd\n",
    "import numpy as np\n",
    "\n",
    "# Carga el archivo CSV en un DataFrame\n",
    "df = pd.read_csv(\"C:/Users/Isa/Documents/fisica/6to semestre/Programacion/taller 2/train.csv\")\n",
    "\n",
    "# Accede a la columna \"Survived\" y guárdala en una lista\n",
    "Surviveds = df[\"Survived\"].tolist()\n",
    "\n",
    "\n",
    "cantidad_de_sobrevivientes = sum(Surviveds) #calcula la cantidad de sobrevivientes porque estos esta macados con unos\n",
    "print(\"Cantidad de sobrevivientes:\", cantidad_de_sobrevivientes)\n",
    "cantidad_de_muertos = int(len(df) - sum(Surviveds)) \n",
    "print(\"Cantidad de muertos:\", cantidad_de_muertos)\n"
   ]
  },
  {
   "cell_type": "code",
   "execution_count": 5,
   "metadata": {},
   "outputs": [
    {
     "name": "stdout",
     "output_type": "stream",
     "text": [
      "nombre: Juan\n",
      "salario(COP): 3000000\n",
      "departamento: recursos humanos\n",
      "\n",
      "nombre: Maria\n",
      "salario(COP): 3500000\n",
      "departamento: Marketing\n",
      "\n",
      "nombre: Lucia\n",
      "salario(COP): 2000000\n",
      "departamento: Logística y Operaciones\n",
      "\n",
      "nombre: Ana\n",
      "salario(COP): 2500000\n",
      "departamento: Control de gestion\n",
      "\n"
     ]
    }
   ],
   "source": [
    "#punto4\n",
    "\n",
    "#lista con los datos de los empleados\n",
    "\n",
    "datos_de_empleados = [\n",
    "     {\"nombre\": \"Juan\", \"salario(COP)\": 3000000, \"departamento\": \"recursos humanos\"},\n",
    "     {\"nombre\": \"Maria\", \"salario(COP)\": 3500000, \"departamento\": \"Marketing\"},\n",
    "     {\"nombre\": \"Lucia\", \"salario(COP)\": 2000000, \"departamento\": \"Logística y Operaciones\"},\n",
    "     {\"nombre\": \"Ana\", \"salario(COP)\": 2500000, \"departamento\": \"Control de gestion\"}\n",
    "]\n",
    "\n",
    "lista_de_empleados = [ ] #realizo mi lista vacia\n",
    "for datos in datos_de_empleados: # Agrega los diccionarios de datos a la lista\n",
    "    lista_de_empleados.append(datos)\n",
    "\n",
    "# Imprime la lista de diccionarios\n",
    "for empleado in lista_de_empleados:\n",
    "    print(\"nombre:\", empleado[\"nombre\"])\n",
    "    print(\"salario(COP):\", empleado[\"salario(COP)\"])\n",
    "    print(\"departamento:\", empleado[\"departamento\"])\n",
    "    print()"
   ]
  },
  {
   "cell_type": "code",
   "execution_count": 8,
   "metadata": {},
   "outputs": [],
   "source": [
    "#punto5\n"
   ]
  },
  {
   "cell_type": "code",
   "execution_count": 47,
   "metadata": {},
   "outputs": [
    {
     "name": "stdout",
     "output_type": "stream",
     "text": [
      "manzana\n",
      "abuela\n",
      "universidad\n"
     ]
    }
   ],
   "source": [
    "#punto6\n",
    "\n",
    "def generador_de_lista(mi_lista):\n",
    "    for palabra in mi_lista:\n",
    "        if len(palabra)  >= 5:\n",
    "            yield (palabra)\n",
    "\n",
    "mi_lista = [\"sol\",\"manzana\",\"mama\", \"papa\", \"abuela\", \"universidad\"]\n",
    "\n",
    "generador = generador_de_lista(mi_lista)\n",
    "\n",
    "# Iterar a través del generador y obtener la cantidad de letras en cada palabra\n",
    "for cantidad in generador:\n",
    "    print(cantidad)"
   ]
  },
  {
   "cell_type": "code",
   "execution_count": null,
   "metadata": {},
   "outputs": [],
   "source": [
    "#punto7"
   ]
  },
  {
   "cell_type": "code",
   "execution_count": 61,
   "metadata": {},
   "outputs": [
    {
     "name": "stdout",
     "output_type": "stream",
     "text": [
      "Nombre: kilogramo de frijol\n",
      "Precio: 25\n",
      "Cantidad en stock: 50\n",
      "\n",
      "Nombre: platanos\n",
      "Precio: 30\n",
      "Cantidad en stock: 75\n",
      "\n"
     ]
    }
   ],
   "source": [
    "#punto9\n",
    "\n",
    "import json\n",
    "\n",
    "# Función que lee el archivo JSON y crea un generador\n",
    "def generador_productos_con_precio_superior(archivo, umbral):\n",
    "    with open(archivo, \"r\") as archivo_json: #r' significa \"read\" (lectura en inglés), lo que indica que el archivo se abrirá en modo de lectura.\n",
    "        data = json.load(archivo_json) # para cargar (o deserializar) un objeto JSON y convertirlo en una estructura de datos de Python\n",
    "    \n",
    "    for producto in data:\n",
    "        if producto[\"precio\"] > umbral:\n",
    "            yield producto\n",
    "\n",
    "archivo_json = \"C:/Users/Isa/Documents/fisica/6to semestre/Programacion/taller 2/archivo3.json\"\n",
    "umbral_precio = 20\n",
    "generador = generador_productos_con_precio_superior(archivo_json, umbral_precio)\n",
    "\n",
    "# Iterar y mostrar los productos con precio superior al umbral\n",
    "for producto in generador:\n",
    "    print(\"Nombre:\", producto[\"nombre\"])\n",
    "    print(\"Precio:\", producto[\"precio\"])\n",
    "    print(\"Cantidad en stock:\", producto[\"cantidad_en_stock\"])\n",
    "    print()\n",
    "\n"
   ]
  }
 ],
 "metadata": {
  "kernelspec": {
   "display_name": "Python 3",
   "language": "python",
   "name": "python3"
  },
  "language_info": {
   "codemirror_mode": {
    "name": "ipython",
    "version": 3
   },
   "file_extension": ".py",
   "mimetype": "text/x-python",
   "name": "python",
   "nbconvert_exporter": "python",
   "pygments_lexer": "ipython3",
   "version": "3.12.0"
  }
 },
 "nbformat": 4,
 "nbformat_minor": 2
}
