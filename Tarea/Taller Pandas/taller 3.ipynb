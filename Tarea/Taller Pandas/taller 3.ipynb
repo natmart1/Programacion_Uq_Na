{
 "cells": [
  {
   "cell_type": "code",
   "execution_count": 30,
   "metadata": {},
   "outputs": [
    {
     "name": "stdout",
     "output_type": "stream",
     "text": [
      "   Campo magnetico (T)  Voltaje de hall (microV)\n",
      "0           0,02529189                         1\n",
      "1          0,190711465                         3\n",
      "2          0,227499525                         3\n",
      "3          0,287475713                         4\n",
      "4          0,335365774                         5\n",
      "5           0,35613104                         6\n",
      "6          0,392919099                         6\n",
      "7          0,409384248                         7\n",
      "8          0,452895288                         8\n",
      "9           0,46579843                         9\n",
      "10         0,489683347                         9\n",
      "11         0,521550614                        11\n",
      "12         0,540652806                        11\n",
      "13         0,549659536                        12\n",
      "14         0,590205941                        13\n",
      "15         0,624853627                        14\n",
      "16         0,666204924                        15\n",
      "17         0,740223397                        16\n",
      "18         0,839624689                        17\n"
     ]
    }
   ],
   "source": [
    "import pandas as pd\n",
    "import numpy as np\n",
    "df = pd.read_csv(\"datos_fisica.csv\",sep=\";\", encoding=\"ISO-8859-1\")\n",
    "print(df)\n"
   ]
  },
  {
   "cell_type": "code",
   "execution_count": 46,
   "metadata": {},
   "outputs": [
    {
     "name": "stdout",
     "output_type": "stream",
     "text": [
      "Campo magnetico (T): 0.45821743963157896\n",
      "Voltaje de hall (microV): 4.754806739974079\n"
     ]
    }
   ],
   "source": [
    "import pandas as pd\n",
    "import numpy as np\n",
    "\n",
    "def analizar_datos(archivo_csv, *columnas, **operaciones):\n",
    "    resultados = {}  # Inicializa un diccionario vacío para almacenar los resultados\n",
    "    \n",
    "    try:\n",
    "        # Cargar el archivo CSV utilizando punto y coma como separador y reemplazar comas por puntos al cargar\n",
    "        df = pd.read_csv(archivo_csv, sep=';', decimal=',', usecols=columnas)\n",
    "\n",
    "        if not operaciones:\n",
    "            resultados[\"error\"] = \"No se especificaron operaciones.\"\n",
    "        else:\n",
    "            for columna, operacion in operaciones.items():\n",
    "                if columna not in df.columns:\n",
    "                    resultados[columna] = \"Columna no encontrada\"\n",
    "                else:\n",
    "                    try:\n",
    "                        if operacion == \"media\":\n",
    "                            resultados[columna] = df[columna].mean()\n",
    "                        elif operacion == \"mediana\":\n",
    "                            resultados[columna] = df[columna].median()\n",
    "                        elif operacion == \"desviacion\":\n",
    "                            resultados[columna] = df[columna].std()\n",
    "                        elif operacion == \"pendiente\":\n",
    "                            # Calcular la pendiente utilizando numpy.polyfit\n",
    "                            pendiente = np.polyfit(df[columna_x], df[columna], 1)[0]\n",
    "                            resultados[columna] = pendiente\n",
    "                        else:\n",
    "                            resultados[columna] = \"Operación no válida\"\n",
    "                    except Exception as e:\n",
    "                        resultados[columna] = str(e)\n",
    "    except Exception as e:\n",
    "        resultados[\"error\"] = str(e)  # Maneja cualquier error global\n",
    "\n",
    "    return resultados\n",
    "\n",
    "\n",
    "# Ejemplo de uso\n",
    "archivo_csv = \"datos_fisica.csv\"\n",
    "\n",
    "# Lista de columnas a analizar\n",
    "columnas_a_analizar = [\"Campo magnetico (T)\", \"Voltaje de hall (microV)\"]\n",
    "\n",
    "# Especifica las operaciones que deseas realizar\n",
    "operaciones = {\n",
    "    \"Campo magnetico (T)\": \"media\",\n",
    "    \"Voltaje de hall (microV)\": \"desviacion\",\n",
    "}\n",
    "\n",
    "# Llama a la función para analizar los datos\n",
    "resultado = analizar_datos(archivo_csv, *columnas_a_analizar, **operaciones)\n",
    "\n",
    "# Imprime los resultados\n",
    "for columna, valor in resultado.items():\n",
    "    print(f\"{columna}: {valor}\")\n",
    "\n",
    "\n"
   ]
  },
  {
   "cell_type": "code",
   "execution_count": 52,
   "metadata": {},
   "outputs": [
    {
     "name": "stdout",
     "output_type": "stream",
     "text": [
      "La pendiente entre Campo magnetico (T) vs Voltaje de hall (microV) es: 23.476730484175054\n"
     ]
    }
   ],
   "source": [
    "import pandas as pd\n",
    "import numpy as np\n",
    "\n",
    "archivo_csv = \"datos_fisica.csv\"\n",
    "df = pd.read_csv(archivo_csv, sep=';', decimal=',')\n",
    "\n",
    "# Especifica las dos columnas entre las que deseas calcular la pendiente\n",
    "columna_x = 'Campo magnetico (T)'\n",
    "columna_y = 'Voltaje de hall (microV)'\n",
    "\n",
    "# Calcula la pendiente utilizando numpy\n",
    "def calcular_pendiente(df, columna_x, columna_y):\n",
    "    pendiente = np.polyfit(df[columna_x], df[columna_y], 1)[0]\n",
    "    return pendiente\n",
    "\n",
    "pendiente_entre_columnas = calcular_pendiente(df, columna_x, columna_y)\n",
    "\n",
    "print(f\"La pendiente entre {columna_x} vs {columna_y} es: {pendiente_entre_columnas}\")\n"
   ]
  },
  {
   "cell_type": "code",
   "execution_count": null,
   "metadata": {},
   "outputs": [],
   "source": [
    "\n",
    "\n"
   ]
  }
 ],
 "metadata": {
  "kernelspec": {
   "display_name": "Python 3",
   "language": "python",
   "name": "python3"
  },
  "language_info": {
   "codemirror_mode": {
    "name": "ipython",
    "version": 3
   },
   "file_extension": ".py",
   "mimetype": "text/x-python",
   "name": "python",
   "nbconvert_exporter": "python",
   "pygments_lexer": "ipython3",
   "version": "3.12.0"
  }
 },
 "nbformat": 4,
 "nbformat_minor": 2
}
